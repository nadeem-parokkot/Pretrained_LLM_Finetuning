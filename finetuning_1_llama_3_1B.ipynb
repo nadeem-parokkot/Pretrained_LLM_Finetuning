{
  "nbformat": 4,
  "nbformat_minor": 0,
  "metadata": {
    "colab": {
      "provenance": [],
      "authorship_tag": "ABX9TyMAFpRLJqxdJ1zXGg+uH3sO",
      "include_colab_link": true
    },
    "kernelspec": {
      "name": "python3",
      "display_name": "Python 3"
    },
    "language_info": {
      "name": "python"
    }
  },
  "cells": [
    {
      "cell_type": "markdown",
      "metadata": {
        "id": "view-in-github",
        "colab_type": "text"
      },
      "source": [
        "<a href=\"https://colab.research.google.com/github/nadeem-parokkot/Pretrained_LLM_Finetuning/blob/main/finetuning_1_llama_3_1B.ipynb\" target=\"_parent\"><img src=\"https://colab.research.google.com/assets/colab-badge.svg\" alt=\"Open In Colab\"/></a>"
      ]
    },
    {
      "cell_type": "code",
      "execution_count": null,
      "metadata": {
        "id": "l7rMlMAJieK8"
      },
      "outputs": [],
      "source": [
        "!pip install  accelerate peft bitsandbytes transformers triton"
      ]
    },
    {
      "cell_type": "code",
      "source": [
        "!pip install trl==0.12.2"
      ],
      "metadata": {
        "id": "gixlF6aXigUt"
      },
      "execution_count": null,
      "outputs": []
    },
    {
      "cell_type": "code",
      "source": [
        "!pip install llama-cpp-python #cpu"
      ],
      "metadata": {
        "id": "5FEgX9haig4g"
      },
      "execution_count": null,
      "outputs": []
    },
    {
      "cell_type": "code",
      "source": [
        "import os\n",
        "import torch\n",
        "from datasets import load_dataset\n",
        "from transformers import (\n",
        "    AutoModelForCausalLM,\n",
        "    AutoTokenizer,\n",
        "    BitsAndBytesConfig,\n",
        "    HfArgumentParser,\n",
        "    TrainingArguments,\n",
        "    pipeline,\n",
        "    logging,\n",
        ")\n",
        "from peft import LoraConfig, PeftModel\n",
        "from trl import SFTTrainer"
      ],
      "metadata": {
        "id": "fMp4N4DYijNN"
      },
      "execution_count": null,
      "outputs": []
    },
    {
      "cell_type": "code",
      "source": [
        "import pandas as pd\n",
        "\n",
        "# Read the XLSX file\n",
        "xlsx_file = pd.read_excel('/content/chap1topic1and2_dataset_finetune.xlsx')\n",
        "\n",
        "# Convert XLSX to CSV\n",
        "xlsx_file.to_csv('output.csv', index=False)"
      ],
      "metadata": {
        "id": "xyf0sVqZlGP4"
      },
      "execution_count": null,
      "outputs": []
    },
    {
      "cell_type": "code",
      "source": [
        "# @title prepare data\n",
        "\n",
        "input_prompt = \"\"\"Below is a Human Input, Provide clear conversational responses in Malayalam for all math-related questions based on the input.\n",
        "\n",
        "### Input:\n",
        "{}\n",
        "\n",
        "### Response:\n",
        "{}\"\"\""
      ],
      "metadata": {
        "id": "fh-bvhW7lG9M"
      },
      "execution_count": null,
      "outputs": []
    },
    {
      "cell_type": "code",
      "source": [
        "# The model that you want to train from the Hugging Face hub\n",
        "#model_name = \"TinyLlama/TinyLlama-1.1B-Chat-v1.0\"\n",
        "model_name = \"unsloth/Llama-3.2-1B-Instruct\" #pretrained model\n",
        "#model_mame = \"/content/final_weights_new\"\n",
        "\n",
        "# The instruction dataset to use\n",
        "#dataset_name = \"mlabonne/guanaco-llama2-1k\"\n",
        "\n",
        "# Fine-tuned model name\n",
        "new_model = \"llama3.2-fine-tuned\"\n",
        "\n",
        "################################################################################\n",
        "# QLoRA parameters\n",
        "################################################################################\n",
        "\n",
        "# LoRA attention dimension\n",
        "lora_r = 64\n",
        "\n",
        "# Alpha parameter for LoRA scaling\n",
        "lora_alpha = 16\n",
        "\n",
        "# Dropout probability for LoRA layers\n",
        "lora_dropout = 0.1\n",
        "\n",
        "################################################################################\n",
        "# bitsandbytes parameters\n",
        "################################################################################\n",
        "\n",
        "# Activate 4-bit precision base model loading\n",
        "use_4bit = True\n",
        "\n",
        "# Compute dtype for 4-bit base models\n",
        "bnb_4bit_compute_dtype = \"float16\"\n",
        "\n",
        "# Quantization type (fp4 or nf4)\n",
        "bnb_4bit_quant_type = \"nf4\"\n",
        "\n",
        "# Activate nested quantization for 4-bit base models (double quantization)\n",
        "use_nested_quant = False\n",
        "\n",
        "################################################################################\n",
        "# TrainingArguments parameters\n",
        "################################################################################\n",
        "\n",
        "# Output directory where the model predictions and checkpoints will be stored\n",
        "output_dir = \"./results\"\n",
        "\n",
        "# Number of training epochs\n",
        "num_train_epochs = 7\n",
        "\n",
        "# Enable fp16/bf16 training (set bf16 to True with an A100)\n",
        "fp16 = False\n",
        "bf16 = False\n",
        "\n",
        "# Batch size per GPU for training\n",
        "per_device_train_batch_size = 1\n",
        "\n",
        "# Batch size per GPU for evaluation\n",
        "per_device_eval_batch_size = 1\n",
        "\n",
        "# Number of update steps to accumulate the gradients for\n",
        "gradient_accumulation_steps = 1\n",
        "\n",
        "# Enable gradient checkpointing\n",
        "gradient_checkpointing = True\n",
        "\n",
        "# Maximum gradient normal (gradient clipping)\n",
        "max_grad_norm = 0.3\n",
        "\n",
        "# Initial learning rate (AdamW optimizer)\n",
        "learning_rate = 2e-4 #0.0002 2x10-4\n",
        "\n",
        "# Weight decay to apply to all layers except bias/LayerNorm weights\n",
        "weight_decay = 0.001\n",
        "\n",
        "# Optimizer to use\n",
        "optim = \"paged_adamw_32bit\"\n",
        "\n",
        "# Learning rate schedule\n",
        "lr_scheduler_type = \"cosine\"\n",
        "\n",
        "# Number of training steps (overrides num_train_epochs)\n",
        "max_steps = -1\n",
        "\n",
        "# Ratio of steps for a linear warmup (from 0 to learning rate)\n",
        "warmup_ratio = 0.03\n",
        "\n",
        "# Group sequences into batches with same length\n",
        "# Saves memory and speeds up training considerably\n",
        "group_by_length = True\n",
        "\n",
        "# Save checkpoint every X updates steps\n",
        "save_steps = 0\n",
        "\n",
        "# Log every X updates steps\n",
        "logging_steps = 25\n",
        "\n",
        "################################################################################\n",
        "# SFT parameters\n",
        "################################################################################\n",
        "\n",
        "# Maximum sequence length to use\n",
        "max_seq_length = None\n",
        "\n",
        "# Pack multiple short examples in the same input sequence to increase efficiency\n",
        "packing = False\n",
        "\n",
        "# Load the entire model on the GPU 0, 4 gpu=0,1,2,3\n",
        "device_map = {\"\": 0} # \"auto\""
      ],
      "metadata": {
        "id": "judoR3d5ivlL"
      },
      "execution_count": null,
      "outputs": []
    },
    {
      "cell_type": "code",
      "source": [
        "# Load dataset (you can process it here)\n",
        "#dataset = load_dataset(dataset_name, split=\"train\")\n",
        "%cd \"/content\"\n",
        "# Load tokenizer and model with QLoRA configuration\n",
        "compute_dtype = getattr(torch, bnb_4bit_compute_dtype)\n",
        "print(compute_dtype)\n",
        "bnb_config = BitsAndBytesConfig(\n",
        "    load_in_4bit=use_4bit,\n",
        "    bnb_4bit_quant_type=bnb_4bit_quant_type,\n",
        "    bnb_4bit_compute_dtype=compute_dtype,\n",
        "    bnb_4bit_use_double_quant=use_nested_quant,\n",
        ")\n",
        "\n",
        "# Check GPU compatibility with bfloat16\n",
        "if compute_dtype == torch.float16 and use_4bit:\n",
        "    major, _ = torch.cuda.get_device_capability()\n",
        "    if major >= 8:\n",
        "        print(\"=\" * 80)\n",
        "        print(\"Your GPU supports bfloat16: accelerate training with bf16=True\")\n",
        "        print(\"=\" * 80)\n",
        "\n",
        "# Load base model\n",
        "model = AutoModelForCausalLM.from_pretrained(\n",
        "    model_name,\n",
        "    quantization_config=bnb_config,\n",
        "    device_map=device_map\n",
        ")\n",
        "model.config.use_cache = False\n",
        "model.config.pretraining_tp = 1\n",
        "\n",
        "# Load LLaMA tokenizer\n",
        "tokenizer = AutoTokenizer.from_pretrained(model_name, trust_remote_code=True)\n",
        "tokenizer.pad_token = tokenizer.eos_token\n",
        "tokenizer.padding_side = \"right\" # Fix weird overflow issue with fp16 training\n",
        "EOS_TOKEN = tokenizer.eos_token\n",
        "def formatting_prompts_func(examples):\n",
        "    inputs       = examples[\"Questions\"]\n",
        "    outputs      = examples[\"Answers\"]\n",
        "    texts = []\n",
        "    for input, output in zip(inputs, outputs):\n",
        "        # Must add EOS_TOKEN, otherwise your generation will go on forever!\n",
        "        text = input_prompt.format(input, output) + EOS_TOKEN\n",
        "        texts.append(text)\n",
        "    print(texts)\n",
        "    return { \"text\" : texts, }\n",
        "pass\n",
        "'''\n",
        "def formatting_prompts_func(examples):\n",
        "    inputs       = examples[\"instruction\"]\n",
        "    outputs      = examples[\"output\"]\n",
        "    texts = []\n",
        "    for input, output in zip(inputs, outputs):\n",
        "        # Must add EOS_TOKEN, otherwise your generation will go on forever!\n",
        "        text = input_prompt.format(input, output) + EOS_TOKEN\n",
        "        texts.append(text)\n",
        "    return { \"text\" : texts, }\n",
        "pass'''\n",
        "\n",
        "from datasets import load_dataset\n",
        "dataset = load_dataset('csv', data_files='output.csv',split=\"train\")\n",
        "#dataset = load_dataset(\"nmdr/Mini-Physics-Instruct-1k\", split = \"train\")\n",
        "dataset = dataset.map(formatting_prompts_func, batched = True,)\n",
        "# Load LoRA configuration\n",
        "peft_config = LoraConfig(\n",
        "    lora_alpha=lora_alpha,\n",
        "    lora_dropout=lora_dropout,\n",
        "    r=lora_r,\n",
        "    bias=\"none\",\n",
        "    task_type=\"CAUSAL_LM\",\n",
        "      target_modules = [\"q_proj\", \"k_proj\", \"v_proj\", \"o_proj\",\n",
        "                      \"gate_proj\", \"up_proj\", \"down_proj\",],\n",
        ")\n",
        "\n",
        "# Set training parameters\n",
        "training_arguments = TrainingArguments(\n",
        "    output_dir=output_dir,\n",
        "    num_train_epochs=num_train_epochs,\n",
        "    per_device_train_batch_size=per_device_train_batch_size,\n",
        "    gradient_accumulation_steps=gradient_accumulation_steps,\n",
        "    optim=optim,\n",
        "    save_steps=save_steps,\n",
        "    logging_steps=logging_steps,\n",
        "    learning_rate=learning_rate,\n",
        "    weight_decay=weight_decay,\n",
        "    fp16=fp16,\n",
        "    bf16=bf16,\n",
        "    max_grad_norm=max_grad_norm,\n",
        "    max_steps=max_steps,\n",
        "    warmup_ratio=warmup_ratio,\n",
        "    group_by_length=group_by_length,\n",
        "    lr_scheduler_type=lr_scheduler_type,\n",
        "    report_to=\"tensorboard\",\n",
        "\n",
        ")\n",
        "\n",
        "# Set supervised fine-tuning parameters\n",
        "trainer = SFTTrainer(\n",
        "    model=model,\n",
        "    train_dataset=dataset,\n",
        "    peft_config=peft_config,\n",
        "    dataset_text_field=\"text\",\n",
        "    max_seq_length=max_seq_length,\n",
        "    tokenizer=tokenizer,\n",
        "    args=training_arguments,\n",
        "    packing=packing,\n",
        "\n",
        ")\n",
        "\n",
        "# Train model\n",
        "trainer.train()\n",
        "\n",
        "# Save trained model\n",
        "trainer.model.save_pretrained(new_model)"
      ],
      "metadata": {
        "id": "kg22i1T1iwQH"
      },
      "execution_count": null,
      "outputs": []
    },
    {
      "cell_type": "code",
      "source": [
        "!rm -rf \"final_weights_new\""
      ],
      "metadata": {
        "id": "BcMxDtd9iyfU"
      },
      "execution_count": null,
      "outputs": []
    },
    {
      "cell_type": "code",
      "source": [
        "##Inference\n",
        "inputs = tokenizer(\n",
        "[\n",
        "    input_prompt.format(\n",
        "        \"hi\", # input\n",
        "        \"\",   # leave blank as response generated by AI\n",
        "\n",
        "    )\n",
        "], return_tensors = \"pt\").to(\"cuda\")\n",
        "\n",
        "outputs = model.generate(**inputs, max_new_tokens = 300, use_cache = True)\n",
        "generated_text = tokenizer.batch_decode(outputs)[0]\n",
        "first_response = generated_text.split('### Response:')[1].strip()\n",
        "output = first_response.split('###')[0].strip()\n",
        "print(\"the response is: \",output)"
      ],
      "metadata": {
        "id": "2SRV2Rcdi4xg"
      },
      "execution_count": null,
      "outputs": []
    },
    {
      "cell_type": "code",
      "source": [
        "# Reload model in FP16 and merge it with LoRA weights w = w+del(w)\n",
        "base_model = AutoModelForCausalLM.from_pretrained(\n",
        "    model_name,\n",
        "    low_cpu_mem_usage=True,\n",
        "    return_dict=True,\n",
        "    torch_dtype=torch.float16,\n",
        "    device_map=\"auto\",\n",
        ")\n",
        "model = PeftModel.from_pretrained(base_model, new_model)\n",
        "model = model.merge_and_unload() #W=w+del(w)\n",
        "\n",
        "# Reload tokenizer to save it\n",
        "#tokenizer = AutoTokenizer.from_pretrained(model_name, trust_remote_code=True)\n",
        "#tokenizer.pad_token = tokenizer.eos_token\n",
        "#tokenizer.padding_side = \"right\""
      ],
      "metadata": {
        "id": "e1W4odLui_ej"
      },
      "execution_count": null,
      "outputs": []
    },
    {
      "cell_type": "code",
      "source": [
        "output_dir = \"final_weights_new\"\n",
        "model.save_pretrained(output_dir)"
      ],
      "metadata": {
        "id": "RPLMzL-FjCmF"
      },
      "execution_count": null,
      "outputs": []
    },
    {
      "cell_type": "code",
      "source": [
        "\n",
        "# Reload tokenizer to save it\n",
        "tokenizer = AutoTokenizer.from_pretrained(model_name, trust_remote_code=True)\n",
        "tokenizer.pad_token = tokenizer.eos_token\n",
        "tokenizer.padding_side = \"right\"\n",
        "tokenizer.save_pretrained(output_dir)"
      ],
      "metadata": {
        "id": "zYkeL5QJjTuH"
      },
      "execution_count": null,
      "outputs": []
    },
    {
      "cell_type": "code",
      "source": [
        "# Run text generation pipeline with our next model\n",
        "# Load model directly </s>\n",
        "from transformers import AutoTokenizer, AutoModelForCausalLM\n",
        "from transformers import pipeline\n",
        "\n",
        "tokenizer = AutoTokenizer.from_pretrained(\"/content/final_weights_new\")\n",
        "model = AutoModelForCausalLM.from_pretrained(\"/content/final_weights_new\", device_map = \"auto\")\n",
        "pipe = pipeline(task=\"text-generation\", model=model, tokenizer=tokenizer, max_length=2048)\n",
        "prompt=input_prompt.format(\n",
        "        \"hi?\", # input\n",
        "        \"\", # leave blank as response generated by AI\n",
        "\n",
        "    )\n",
        "result = pipe(prompt, temperature=0.05)\n",
        "generated_text  = result[0]['generated_text']\n",
        "\n",
        "first_response = generated_text.split('### Response:')[1].strip()\n",
        "first_response = first_response.split(\"\\n\")[0]\n",
        "\n",
        "print(first_response)"
      ],
      "metadata": {
        "id": "ywO7bHKHjSA5"
      },
      "execution_count": null,
      "outputs": []
    },
    {
      "cell_type": "code",
      "source": [
        "prompt=input_prompt.format(\n",
        "        \"hi\", # input\n",
        "        \"\", # leave blank as response generated by AI\n",
        "\n",
        "    )\n",
        "result = pipe(prompt, temperature=0.00000000001)\n",
        "generated_text  = result[0]['generated_text']\n",
        "\n",
        "first_response = generated_text.split('### Response:')[1].strip()\n",
        "first_response = first_response.split(\"\\n\")[0]\n",
        "\n",
        "print(first_response)"
      ],
      "metadata": {
        "id": "L1bfs9k6jUdh"
      },
      "execution_count": null,
      "outputs": []
    },
    {
      "cell_type": "code",
      "source": [
        "!git clone https://github.com/ggerganov/llama.cpp\n",
        "%cd llama.cpp\n",
        "!cmake -B build -DGGML_CUDA=ON\n",
        "!cmake --build build --config Release -j 8"
      ],
      "metadata": {
        "id": "ZV1667tvjbWO"
      },
      "execution_count": null,
      "outputs": []
    },
    {
      "cell_type": "code",
      "source": [
        "%cd /content/llama.cpp\n",
        "!python3 convert_hf_to_gguf.py /content/final_weights_new --outtype f16"
      ],
      "metadata": {
        "id": "p-zsh7ykjcur"
      },
      "execution_count": null,
      "outputs": []
    },
    {
      "cell_type": "code",
      "source": [
        "%cd /content/llama.cpp\n",
        "!./build/bin/llama-quantize /content/final_weights_new/Llama-3.2-1B-Instruct-F16.gguf /content/final_weights_new/ggml-model-q4_k_m.gguf q4_k_m\n"
      ],
      "metadata": {
        "id": "r8ZgHTvmjelD"
      },
      "execution_count": null,
      "outputs": []
    },
    {
      "cell_type": "code",
      "source": [
        "# Android app pocketpal\n",
        "\n",
        "\n",
        "input_prompt = \"\"\"Below is a Human Input, Provide clear conversational responses in Malayalam for all math-related questions based on the input.\n",
        "\n",
        "### Input:\n",
        "{}\n",
        "\n",
        "### Response:\n",
        "{}\"\"\"\n",
        "\n",
        "from llama_cpp import Llama\n",
        "llm = Llama(model_path=\"/content/final_weights_new/Llama-3.2-1B-Instruct-F16.gguf\",n_gpu_layers=30,verbose=True)\n",
        "prompt = input_prompt.format(\n",
        "        \"എന്താണ് സംഖ്യാശ്രേണി?\", # input\n",
        "        \"\"              # leave blank as response generated by AI\n",
        "\n",
        "    )\n",
        "\n",
        "output = llm( prompt,\n",
        "        max_tokens=256,\n",
        "        temperature=0.7,\n",
        "        top_p=0.9,\n",
        "        top_k=50,\n",
        "        repeat_penalty=1.2,\n",
        "        presence_penalty=1.0,# Added presence penalty to discourage repetitive content\n",
        "        frequency_penalty=1.0,# Added frequency penalty to encourage diversity\n",
        "                )\n",
        "out = output['choices'][0]['text']\n",
        "generated_text = out\n",
        "first_response = generated_text.split('### Input:')[0].strip()\n",
        "\n",
        "print(first_response)"
      ],
      "metadata": {
        "id": "_2TJX4mMjgAh"
      },
      "execution_count": null,
      "outputs": []
    }
  ]
}